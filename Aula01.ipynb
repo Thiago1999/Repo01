{
  "nbformat": 4,
  "nbformat_minor": 0,
  "metadata": {
    "colab": {
      "name": "Aula01.ipynb",
      "provenance": [],
      "collapsed_sections": [],
      "authorship_tag": "ABX9TyOznM3v4sWqPr++dqoZ7nje",
      "include_colab_link": true
    },
    "kernelspec": {
      "name": "python3",
      "display_name": "Python 3"
    }
  },
  "cells": [
    {
      "cell_type": "markdown",
      "metadata": {
        "id": "view-in-github",
        "colab_type": "text"
      },
      "source": [
        "<a href=\"https://colab.research.google.com/github/Thiago1999/Repo01/blob/master/Aula01.ipynb\" target=\"_parent\"><img src=\"https://colab.research.google.com/assets/colab-badge.svg\" alt=\"Open In Colab\"/></a>"
      ]
    },
    {
      "cell_type": "code",
      "metadata": {
        "id": "RTUHHuMSwv4B",
        "colab_type": "code",
        "colab": {
          "base_uri": "https://localhost:8080/",
          "height": 68
        },
        "outputId": "ebda4e61-7835-4414-f7bc-f2359ff1e9b0"
      },
      "source": [
        "### isto é um comando de saida\n",
        "print('Olá mundo cruel!!')\n",
        "print('cruel world!!!')\n",
        "print(\"com aspas duplas\")\n",
        "\n",
        "# a hashtag é um comentário no código, ou sija, não influenciara no codigo.\n",
        "# o comando print() mostra na tela, ou seja, é uma saida de valores.\n",
        "# o conteudo texto deve estar entre aspas.\n",
        "# ctrl + s = salvar.\n",
        "# executar ctrl + enter.\n",
        "\n",
        "\n"
      ],
      "execution_count": 3,
      "outputs": [
        {
          "output_type": "stream",
          "text": [
            "Olá mundo cruel!!\n",
            "cruel world!!!\n",
            "com aspas duplas\n"
          ],
          "name": "stdout"
        }
      ]
    },
    {
      "cell_type": "markdown",
      "metadata": {
        "id": "cB0A5HdV4fqw",
        "colab_type": "text"
      },
      "source": [
        "Esta é uma célula somente de texto.\n",
        "aqui posso fazer formatações usando as ferramentas que estão na barra."
      ]
    }
  ]
}